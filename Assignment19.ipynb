{
 "cells": [
  {
   "cell_type": "code",
   "execution_count": null,
   "id": "6dc5df5a-0b5c-4b36-b77a-7b73f83eab37",
   "metadata": {},
   "outputs": [],
   "source": [
    "# Q1. Explain GET and POST methods.\n",
    "\n",
    "# ans\n",
    "\"\"\" \n",
    "GET and POST are two HTTP methods used for communication between a client (such as a web browser)\n",
    "and a server. They define how data is transmitted and the purpose of the request. \n",
    "Here's an explanation of the GET and POST methods: \n",
    "\n",
    "GET Method:\n",
    "\n",
    "1.GET is a safe and idempotent method used to retrieve data from the server.\n",
    "2.In a GET request, the client sends a request to the server to retrieve a specific resource or information.\n",
    "3.The data is sent as part of the URL query parameters, visible in the browser's address\n",
    "bar or in the URL used by the client.\n",
    "4.GET requests should be used for retrieving data and should not have any side effects on the server.\n",
    "\n",
    "POST Method:\n",
    "\n",
    "1.POST is a method used to submit data to be processed by the server.\n",
    "2.In a POST request, the client sends data in the body of the request, rather than in the URL like in a GET request.\n",
    "3.The data sent in a POST request is typically used to create or update a resource on the server.\n",
    "4.POST requests are not cacheable and can have side effects on the server, such as modifying data or triggering actions.\n",
    "\"\"\""
   ]
  },
  {
   "cell_type": "code",
   "execution_count": null,
   "id": "38abfd18-1fbb-49af-a8dc-fc71f035557b",
   "metadata": {},
   "outputs": [],
   "source": [
    "# Q2. Why is request used in Flask?\n",
    "\n",
    "# ans\n",
    "\"\"\" \n",
    "In Flask, the request object is used to access incoming request data sent by the client \n",
    "(e.g., a web browser) to the server. It provides a convenient way to retrieve information \n",
    "such as form data, query parameters, headers, cookies, and more.\n",
    "Here are some reasons why the request object is used in Flask:\n",
    "\n",
    "Accessing Form Data: When a client submits an HTML form, the request object allows you to\n",
    "access the form data. You can retrieve values of form fields, such as text inputs, \n",
    "checkboxes, radio buttons, and select options, using the request.form attribute.\n",
    "\n",
    "Handling Query Parameters: The request.args attribute provides access to the query \n",
    "parameters passed in the URL. You can extract values from the query string, allowing you\n",
    "to handle parameters like search queries, pagination, filters, and more. \n",
    "\n",
    "Handling File Uploads: If your Flask application supports file uploads, the request.files\n",
    "attribute allows you to handle uploaded files. You can access the uploaded files, save \n",
    "them to the server, validate file types, and perform further processing as needed.\"\"\""
   ]
  },
  {
   "cell_type": "code",
   "execution_count": null,
   "id": "f7279eef-0696-4bd8-8061-595f3dda0873",
   "metadata": {},
   "outputs": [],
   "source": [
    "# Q3. Why is redirect() used in Flask?\n",
    "\n",
    "# ans\n",
    "\"\"\" In Flask, the redirect() function is used to redirect the client (typically a web browser) \n",
    "to a different URL. It is a way to instruct the client to make a new request to a different location. \n",
    "Here are some reasons why the redirect() function is used in Flask:\n",
    "\n",
    "URL Redirection: Redirecting the client to a different URL is useful in various scenarios.\n",
    "It allows you to handle situations where a user needs to be redirected after a certain action or\n",
    "when accessing a specific route. For example, after submitting a form, you can redirect\n",
    "the user to a success page or to a different route for further processing.\n",
    "\n",
    "Changing URL Patterns: In some cases, you may want to change the URL pattern or make it more user-friendly. \n",
    "The redirect() function enables you to map old or complex URLs to new, simpler URLs.\n",
    "This can help improve the usability and maintainability of your application. \"\"\""
   ]
  },
  {
   "cell_type": "code",
   "execution_count": null,
   "id": "f07b4568-4a56-4bb8-b3ca-0e87c887f62b",
   "metadata": {},
   "outputs": [],
   "source": [
    "# Q4. What are templates in Flask? Why is the render_template() function used?\n",
    "\n",
    "# ans\n",
    "\"\"\" In Flask, templates are files that contain the HTML structure and presentation logic \n",
    "of a web page. They are used to separate the presentation layer from the application logic,\n",
    "allowing for cleaner and more maintainable code. Templates enable you to dynamically\n",
    "generate HTML pages by incorporating data from your Flask application.\n",
    "\n",
    "The render_template() function in Flask is used to render and display a template.\n",
    "It takes the name of the template file as an argument, along with any additional data\n",
    "that you want to pass to the template.\n",
    "\n",
    "Dynamic HTML Generation: With the render_template() function, you can dynamically generate \n",
    "HTML pages by combining the template's static HTML structure with dynamic data. You can \n",
    "pass variables and objects from your Flask application to the template, allowing you to\n",
    "display data dynamically and personalize the content based on user inputs or application logic.\"\"\""
   ]
  },
  {
   "cell_type": "code",
   "execution_count": null,
   "id": "12521bcf-9009-4b96-8331-0193a67566a2",
   "metadata": {},
   "outputs": [],
   "source": [
    "\"\"\" Q5. Create a simple API. Use Postman to test it. Attach the screenshot of the\n",
    "output in the Jupyter Notebook. \"\"\"\n",
    "\n",
    "# ans\n",
    "\"\"\" \n",
    "from flask import Flask, jsonify\n",
    "\n",
    "app = Flask(__name__)\n",
    "\n",
    "@app.route('/api', methods=['GET'])\n",
    "def api():\n",
    "    response = {'message': 'Hello, world!'}\n",
    "    return jsonify(response)\n",
    "\n",
    "if __name__ == '__main__':\n",
    "    app.run()\n",
    "\n",
    "\"\"\""
   ]
  }
 ],
 "metadata": {
  "kernelspec": {
   "display_name": "Python 3 (ipykernel)",
   "language": "python",
   "name": "python3"
  },
  "language_info": {
   "codemirror_mode": {
    "name": "ipython",
    "version": 3
   },
   "file_extension": ".py",
   "mimetype": "text/x-python",
   "name": "python",
   "nbconvert_exporter": "python",
   "pygments_lexer": "ipython3",
   "version": "3.10.8"
  }
 },
 "nbformat": 4,
 "nbformat_minor": 5
}
